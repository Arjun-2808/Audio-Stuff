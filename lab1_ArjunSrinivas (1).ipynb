{
 "cells": [
  {
   "cell_type": "code",
   "execution_count": 30,
   "id": "0d68cbb2-f4e8-4993-a602-edf4baccee56",
   "metadata": {},
   "outputs": [],
   "source": [
    "import serial\n",
    "import serial.tools.list_ports\n",
    "ports = serial.tools.list_ports.comports() # get list of serial ports with devices"
   ]
  },
  {
   "cell_type": "code",
   "execution_count": 31,
   "id": "a904b65b-2b9a-417d-a27c-cafba6d3fdf7",
   "metadata": {},
   "outputs": [],
   "source": [
    "VID = 61525 # vendor ID of the device\n",
    "PID = 38912 # product ID of the device\n",
    "for p in ports:\n",
    "  if p.vid == VID and p.pid == PID:\n",
    "   try:\n",
    "     device=serial.Serial(p.device)\n",
    "   except serial.SerialException: # raised if the device not available\n",
    "     print('Reconnect the controller unit.')\n",
    "if device is None:\n",
    "  raise Exception('No suitable device detected.') # if no matching device found"
   ]
  },
  {
   "cell_type": "code",
   "execution_count": 32,
   "id": "3ea0a7e6-6830-4b8a-884c-202b4b2cf87c",
   "metadata": {},
   "outputs": [
    {
     "data": {
      "text/plain": [
       "Serial<id=0x1cf90a00670, open=True>(port='COM5', baudrate=9600, bytesize=8, parity='N', stopbits=1, timeout=None, xonxoff=False, rtscts=False, dsrdtr=False)"
      ]
     },
     "execution_count": 32,
     "metadata": {},
     "output_type": "execute_result"
    }
   ],
   "source": [
    "device # check the connection information"
   ]
  },
  {
   "cell_type": "code",
   "execution_count": 33,
   "id": "e081db7a-c31e-4e4f-b661-105860c66723",
   "metadata": {},
   "outputs": [
    {
     "data": {
      "text/plain": [
       "20"
      ]
     },
     "execution_count": 33,
     "metadata": {},
     "output_type": "execute_result"
    }
   ],
   "source": [
    "device.write(bytes('pyb.LED(1).toggle()\\r','utf-8')) # toggle the status of D2 LED"
   ]
  },
  {
   "cell_type": "code",
   "execution_count": 35,
   "id": "8c7eb3ba-f1a9-41d5-bcd3-c59ef5d28f82",
   "metadata": {},
   "outputs": [
    {
     "data": {
      "text/plain": [
       "12"
      ]
     },
     "execution_count": 35,
     "metadata": {},
     "output_type": "execute_result"
    }
   ],
   "source": [
    "device.write(bytes('volt=8\\r','utf-8'))\n",
    "device.write(bytes('from pyb import Pin\\r','utf-8'))\n",
    "device.write(bytes('from machine import SPI\\r','utf-8'))\n",
    "device.write(bytes(\"spi = SPI(sck=Pin('PB13', Pin.OUT), mosi=Pin('PB15', Pin.OUT), miso=Pin('PB14', Pin.IN))\\r\", 'utf-8'))\n",
    "device.write(bytes(\"dz = Pin('PB12', Pin.OUT)\\r\", 'utf-8'))\n",
    "device.write(bytes('y = 312 - 1020/volt\\r','utf-8'))\n",
    "device.write(bytes('dz.value(0)\\r','utf-8'))\n",
    "device.write(bytes(\"spi.write(b'\\\\x11')\\r\", 'utf-8'))\n",
    "device.write(bytes(\"spi.write(bytes((int(y),)))\\r\", 'utf-8'))\n",
    "device.write(bytes('dz.value(1)\\r','utf-8'))\n",
    "#this converts the putty code to the code in utf-8 "
   ]
  },
  {
   "cell_type": "code",
   "execution_count": 36,
   "id": "d3c8d069-2421-4b98-a700-40cfe29804a9",
   "metadata": {},
   "outputs": [],
   "source": [
    "device.close() # close connection"
   ]
  },
  {
   "cell_type": "code",
   "execution_count": null,
   "id": "1ecd238e-baf9-42d2-a98b-937a479ca8c7",
   "metadata": {},
   "outputs": [],
   "source": []
  },
  {
   "cell_type": "code",
   "execution_count": null,
   "id": "925f357e-899e-47ba-8099-fabb1380c4d5",
   "metadata": {},
   "outputs": [],
   "source": []
  }
 ],
 "metadata": {
  "kernelspec": {
   "display_name": "Python 3 (ipykernel)",
   "language": "python",
   "name": "python3"
  },
  "language_info": {
   "codemirror_mode": {
    "name": "ipython",
    "version": 3
   },
   "file_extension": ".py",
   "mimetype": "text/x-python",
   "name": "python",
   "nbconvert_exporter": "python",
   "pygments_lexer": "ipython3",
   "version": "3.12.8"
  }
 },
 "nbformat": 4,
 "nbformat_minor": 5
}
